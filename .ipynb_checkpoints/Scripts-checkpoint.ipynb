{
 "cells": [
  {
   "cell_type": "code",
   "execution_count": 2,
   "metadata": {
    "collapsed": true
   },
   "outputs": [],
   "source": [
    "#!/bin/python\n",
    "import numpy as np\n",
    "from sklearn.metrics import mean_squared_error\n",
    "\n",
    "# User class stores the names and average rating for each user\n",
    "class User:\n",
    "    def __init__(self, name, user_id):\n",
    "        self.name = name\n",
    "        self.id = user_id\n",
    "        self.avg_r = 0.0\n",
    "\n",
    "# Item class stores the name of each item\n",
    "class Item:\n",
    "    def __init__(self, name, item_id):\n",
    "        self.name = name\n",
    "        self.id = item_id\n",
    "\n",
    "# Rating class is used to assign ratings\n",
    "class Rating:\n",
    "    def __init__(self, user_id, item_id, rating):\n",
    "        self.user_id = user_id\n",
    "        self.item_id = item_id\n",
    "        self.rating = rating\n",
    "\n",
    "# We store users in a list. Note that user IDs start indexed at 1.\n",
    "user = []\n",
    "user.append(User(\"Ann\", 1))\n",
    "user.append(User(\"Bob\", 2))\n",
    "user.append(User(\"Carl\", 3))\n",
    "user.append(User(\"Doug\", 4))\n",
    "\n",
    "# Items are also stored in a list. Note that item IDs start indexed at 1.\n",
    "item = []\n",
    "item.append(Item(\"HP1\", 1))\n",
    "item.append(Item(\"HP2\", 2))\n",
    "item.append(Item(\"HP3\", 3))\n",
    "item.append(Item(\"SW1\", 4))\n",
    "item.append(Item(\"SW2\", 5))\n",
    "item.append(Item(\"SW3\", 6))\n",
    "\n",
    "rating = []\n",
    "rating.append(Rating(1, 1, 4))\n",
    "rating.append(Rating(1, 4, 1))\n",
    "rating.append(Rating(2, 1, 5))\n",
    "rating.append(Rating(2, 2, 5))\n",
    "rating.append(Rating(2, 3, 4))\n",
    "rating.append(Rating(3, 4, 4))\n",
    "rating.append(Rating(3, 5, 5))\n",
    "rating.append(Rating(4, 2, 3))\n",
    "rating.append(Rating(4, 6, 3))\n",
    "\n",
    "n_users = len(user)\n",
    "n_items = len(item)\n",
    "n_ratings = len(rating)\n",
    "\n",
    "# The utility matrix stores the rating for each user-item pair in the matrix form.\n",
    "utility = np.zeros((n_users, n_items))\n",
    "for r in rating:\n",
    "    utility[r.user_id-1][r.item_id-1] = r.rating"
   ]
  },
  {
   "cell_type": "code",
   "execution_count": 3,
   "metadata": {
    "collapsed": false
   },
   "outputs": [],
   "source": [
    "s = [[str(e) for e in row] for row in utility]"
   ]
  },
  {
   "cell_type": "code",
   "execution_count": 4,
   "metadata": {
    "collapsed": false
   },
   "outputs": [
    {
     "name": "stdout",
     "output_type": "stream",
     "text": [
      "[['4.0', '0.0', '0.0', '1.0', '0.0', '0.0'], ['5.0', '5.0', '4.0', '0.0', '0.0', '0.0'], ['0.0', '0.0', '0.0', '4.0', '5.0', '0.0'], ['0.0', '3.0', '0.0', '0.0', '0.0', '3.0']]\n"
     ]
    }
   ],
   "source": [
    "print s"
   ]
  },
  {
   "cell_type": "code",
   "execution_count": null,
   "metadata": {
    "collapsed": true
   },
   "outputs": [],
   "source": [
    "for i in range(0, n_users):\n",
    "    x = utility[i]\n",
    "    user[i].avg_r = sum(a for a in x if a > 0) / sum(a > 0 for a in x)\n",
    "def pcs(x, y):\n",
    "    num = 0\n",
    "    den1 = 0\n",
    "    den2 = 0\n",
    "    A = utility[x - 1]\n",
    "    B = utility[y - 1]\n",
    "    num = sum((a - user[x - 1].avg_r) * (b - user[y - 1].avg_r) for a, b in zip(A, B) if a > 0 and b > 0)\n",
    "    den1 = sum((a - user[x - 1].avg_r) ** 2 for a in A if a > 0)\n",
    "    den2 = sum((b - user[y - 1].avg_r) ** 2 for b in B if b > 0)\n",
    "    den = (den1 ** 0.5) * (den2 ** 0.5)\n",
    "    if den == 0:\n",
    "        return 0\n",
    "    else:\n",
    "        return num / den"
   ]
  }
 ],
 "metadata": {
  "kernelspec": {
   "display_name": "Python 2",
   "language": "python",
   "name": "python2"
  },
  "language_info": {
   "codemirror_mode": {
    "name": "ipython",
    "version": 2
   },
   "file_extension": ".py",
   "mimetype": "text/x-python",
   "name": "python",
   "nbconvert_exporter": "python",
   "pygments_lexer": "ipython2",
   "version": "2.7.6"
  }
 },
 "nbformat": 4,
 "nbformat_minor": 0
}
